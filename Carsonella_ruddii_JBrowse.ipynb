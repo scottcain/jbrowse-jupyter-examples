{
 "cells": [
  {
   "cell_type": "markdown",
   "metadata": {},
   "source": [
    "This is an older version of the *Haemophilus influenzae* notebook in the same directory; it is a little clunkier (it uses `urllib3` to fetch the DNA sequence instead of the `requests` library in the newer notebook. I'm just keeping it around for posterity."
   ]
  },
  {
   "cell_type": "code",
   "execution_count": null,
   "metadata": {
    "colab": {
     "base_uri": "https://localhost:8080/"
    },
    "id": "1x1une-C-M3D",
    "outputId": "8efe218e-32e6-43aa-daee-b90c4c232505"
   },
   "outputs": [],
   "source": [
    "# For its use in colab notebook\n",
    "!pip install jbrowse-jupyter"
   ]
  },
  {
   "cell_type": "code",
   "execution_count": null,
   "metadata": {
    "colab": {
     "base_uri": "https://localhost:8080/"
    },
    "id": "0EcdgRUg-M3F",
    "outputId": "c081a255-57c3-4175-a1e9-b483f03be709"
   },
   "outputs": [],
   "source": [
    "# For its use in colab notebook\n",
    "!pip install pandas\n",
    "import pandas as pd"
   ]
  },
  {
   "cell_type": "code",
   "execution_count": null,
   "metadata": {
    "id": "KMvQkebB-M3F"
   },
   "outputs": [],
   "source": [
    "# don't actally need create here--that's only good for \"build in\" geneomes hg19, hg38\n",
    "from jbrowse_jupyter import create, launch"
   ]
  },
  {
   "cell_type": "markdown",
   "metadata": {},
   "source": [
    "For this example, we'll use a really short bacterial genome (at one point it was the shortest ever sequenced), *Carsonella ruddii*'* https://www.ncbi.nlm.nih.gov/nuccore/NC_018416.1/ It is a endosymbiont bacteria that I don't think is ever found \"free living\" https://en.wikipedia.org/wiki/Candidatus_Carsonella_ruddii"
   ]
  },
  {
   "cell_type": "code",
   "execution_count": null,
   "metadata": {
    "id": "MjV5p2bp-M3F"
   },
   "outputs": [],
   "source": [
    "refseq_name = 'NC_018416.1' #it would be nice to extract this from fasta or gff"
   ]
  },
  {
   "cell_type": "markdown",
   "metadata": {},
   "source": [
    "All of the data we are using came originally from the NCBI link above. Things I did to make our lives easier:\n",
    "* Created a bgzipped and faidx indexed (SAMtools) copy of the fasta sequence\n",
    "* Created a bgzipped and tabix indexed copy of the GFF (which contains the gene annotations)\n",
    "* Created an unzipped copy of the fasta sequence (to make it easier for us to read)\n",
    "* Plopped all of this data in a AWS S3 bucket with CORS enabled for public access\n",
    "\n",
    "Here we are creating an empty JBrowse configuration option, telling it that it will be a linear genome view (LGV) as opposed to a circular genome view (CGV) and setting the assemblying, telling where to find the indexed fasta file."
   ]
  },
  {
   "cell_type": "code",
   "execution_count": null,
   "metadata": {
    "id": "OK7QKLtF_-Bu"
   },
   "outputs": [],
   "source": [
    "import jbrowse_jupyter\n",
    "config = jbrowse_jupyter.JBrowseConfig(view=\"LGV\",)\n",
    "config.set_assembly('https://s3.amazonaws.com/wormbase-modencode/test/Carsonella_ruddii/Carsonella_ruddii.fa.gz', # bgzipped\n",
    "                    name=refseq_name)"
   ]
  },
  {
   "cell_type": "code",
   "execution_count": null,
   "metadata": {
    "id": "qzeQZakd-2q3"
   },
   "outputs": [],
   "source": [
    "c_ruddii_ref_url = 'https://s3.amazonaws.com/wormbase-modencode/test/Carsonella_ruddii/Carsonella_ruddii.fa' #unzipped--this is what we are going to read in this script"
   ]
  },
  {
   "cell_type": "code",
   "execution_count": null,
   "metadata": {
    "colab": {
     "base_uri": "https://localhost:8080/"
    },
    "id": "18RyN0SSESgl",
    "outputId": "d0ee679a-7fae-4e78-ac66-b1dbb9e026f8"
   },
   "outputs": [],
   "source": [
    "!pip install urllib3"
   ]
  },
  {
   "cell_type": "markdown",
   "metadata": {},
   "source": [
    "This is the \"magic\" for reading the contents from a URL."
   ]
  },
  {
   "cell_type": "code",
   "execution_count": null,
   "metadata": {
    "colab": {
     "base_uri": "https://localhost:8080/"
    },
    "id": "CorBfbI5_UUf",
    "outputId": "0d09c994-f3fa-44e1-90da-256b99a8eca2"
   },
   "outputs": [],
   "source": [
    "import urllib3\n",
    "import io\n",
    "http = urllib3.PoolManager()  \n",
    "r = http.request('GET', c_ruddii_ref_url, preload_content=False)\n",
    "r.auto_close = False\n",
    "print(r.status)\n"
   ]
  },
  {
   "cell_type": "markdown",
   "metadata": {},
   "source": [
    "Here we are creating our first JBrowse 2 track from the GFF3 file I mentioned above. It's pretty straight forward, just giving it a url for the data and a name that will be displayed in JBrowse 2 (the \"name\") and a track_id, which is what we use to refer to it programatically below."
   ]
  },
  {
   "cell_type": "code",
   "execution_count": null,
   "metadata": {},
   "outputs": [],
   "source": [
    "#add gene track\n",
    "geneGFFUrl = 'https://s3.amazonaws.com/wormbase-modencode/test/Carsonella_ruddii/Carsonella_ruddii.gff.gz'\n",
    "config.add_track(geneGFFUrl, name=\"Genes\",track_id=\"Genes\")"
   ]
  },
  {
   "cell_type": "markdown",
   "metadata": {},
   "source": [
    "Now we start some computation. The window and step are for calculating sliding averages: the window is how many bases we'll use to calculate an average and the step is how many bases we'll move the \"center\" of the window with each time through the loop."
   ]
  },
  {
   "cell_type": "code",
   "execution_count": null,
   "metadata": {
    "id": "AydKqgnLYtJF"
   },
   "outputs": [],
   "source": [
    "window = 20 #window has to be an even number\n",
    "step   = 5"
   ]
  },
  {
   "cell_type": "markdown",
   "metadata": {},
   "source": [
    "Frist read the sequence data into a variable called `seq`"
   ]
  },
  {
   "cell_type": "code",
   "execution_count": null,
   "metadata": {},
   "outputs": [],
   "source": [
    "firstline = True\n",
    "linecount=0\n",
    "\n",
    "seq = '' #first try just putting all of the seq into a variable (rather than working on streaming sequence)\n",
    "\n",
    "tw = io.TextIOWrapper(r)\n",
    "while True:\n",
    "#for line in io.TextIOWrapper(r):\n",
    "  rline = tw.readline()\n",
    "  if not rline:\n",
    "    break\n",
    "  if firstline:\n",
    "    firstline = False\n",
    "    continue # skip the header line\n",
    "  if rline.find(\">\") > -1: #assuming there are other sequences in the fasta, stop after the first one\n",
    "                           # note that this is a bit of a hack here: the interaction between streaming the data from AWS and TextIOWrapper doesn't\n",
    "                           # work great (that is, it closes before we read to the end), so I hacked the fasta file that we are reading to have two \n",
    "                           # copies of the bacterial genome it it\n",
    "    break\n",
    "  seq = seq + rline.rstrip(\"\\n\")"
   ]
  },
  {
   "cell_type": "markdown",
   "metadata": {},
   "source": [
    "Now we are going to do the calculations that happen on every base (rather than sliding averages, that we'll do below). Two things are getting calculated here:\n",
    "* The cummulative GC skew (basically, every time you see a G, add 1, every time you see a C, subtract 1)\n",
    "* The total of each type of base\n",
    "Notice that typically the number of As is typically roughly equal to the number of Ts and the same is true for Gs and Cs. I don't know if an accepted hypothosis for why that is has ever been presented."
   ]
  },
  {
   "cell_type": "code",
   "execution_count": null,
   "metadata": {
    "colab": {
     "base_uri": "https://localhost:8080/"
    },
    "id": "ooS3ilFXQjJd",
    "outputId": "024d3447-a76e-4fd4-cc6c-002efb7fc729"
   },
   "outputs": [],
   "source": [
    "all_freq = {}\n",
    "cummulative_skew = {}\n",
    "cummulative_name = {}\n",
    "start = {}\n",
    "end   = {}\n",
    "refName = {}\n",
    "skew_name = {}\n",
    "firstBase = True\n",
    "i = 1\n",
    "for bp in seq: #loop over every base in the sequence\n",
    "  if firstBase:\n",
    "    if bp == \"G\":\n",
    "      cummulative_skew[i] = 1\n",
    "    elif bp == \"C\":\n",
    "      cummulative_skew[i] = -1\n",
    "    else:\n",
    "      cummulative_skew[i] = 0\n",
    "    firstBase = False\n",
    "  # calculating cummulative skew at every base\n",
    "  else:\n",
    "    if bp == \"G\":\n",
    "      cummulative_skew[i] = cummulative_skew[i-1] + 1\n",
    "    elif bp == \"C\":\n",
    "      cummulative_skew[i] = cummulative_skew[i-1] - 1\n",
    "    else:\n",
    "      cummulative_skew[i] = cummulative_skew[i-1]\n",
    "  cummulative_name[i] = 'Cummulative GC skew'\n",
    "  start[i] = i\n",
    "  end[i] = i\n",
    "  refName[i] = refseq_name\n",
    "  skew_name[i] = 'Cummulative GC skew'\n",
    "  #not really a frequency, really sum\n",
    "  if bp in all_freq:\n",
    "    all_freq[bp] += 1\n",
    "  else:\n",
    "    all_freq[bp] = 1\n",
    "  i += 1\n",
    "print(all_freq)"
   ]
  },
  {
   "cell_type": "markdown",
   "metadata": {},
   "source": [
    "Create a pandas DataFrame for the skew data (this is the structure that JBrowse expects)"
   ]
  },
  {
   "cell_type": "code",
   "execution_count": null,
   "metadata": {},
   "outputs": [],
   "source": [
    "skew_data = {'refName': refName,\n",
    "                'start':start,\n",
    "                'end':end,\n",
    "                'name':skew_name,\n",
    "                'score':cummulative_skew}\n",
    "skew_df = pd.DataFrame(skew_data)\n",
    "print(skew_df)"
   ]
  },
  {
   "cell_type": "markdown",
   "metadata": {},
   "source": [
    "Now to calculate the sliding average statistics, percent GC and local GC asymetry"
   ]
  },
  {
   "cell_type": "code",
   "execution_count": null,
   "metadata": {
    "id": "P_WurowxFVyi"
   },
   "outputs": [],
   "source": [
    "seqlen = len(seq)\n",
    "GCpercent = {}\n",
    "GCasym = {}\n",
    "start = {}\n",
    "end = {}\n",
    "refName = {}\n",
    "percent_name={}\n",
    "asym_name={}\n",
    "rowcount=0\n",
    "for bp in range(int(window/2), int(seqlen-window/2), step): #note the use of range to create a number sequence to skip through the sequence string\n",
    "  seqfrag = seq[bp-int(window/2):bp+int(window/2)]\n",
    "  Acount = seqfrag.count('A')\n",
    "  Ccount = seqfrag.count('C')\n",
    "  Gcount = seqfrag.count('G')\n",
    "  Tcount = seqfrag.count('T')\n",
    "  refName[rowcount] = refseq_name\n",
    "  start[rowcount] = bp\n",
    "  end[rowcount] = bp\n",
    "  percent_name[rowcount] = 'GC percent'\n",
    "  asym_name[rowcount] = 'GC asymetry'\n",
    "#casting fractions into int percents; score shouldn't have to be an int!\n",
    "  GCpercent[rowcount] = int((100*Gcount+Ccount)/window)\n",
    "  GCasym[rowcount] = 0\n",
    "  if Gcount+Ccount > 0:\n",
    "    GCasym[rowcount]  = int(100*(Gcount-Ccount)/(Gcount+Ccount))\n",
    "  rowcount = rowcount+1\n",
    "    \n",
    "\n",
    "\n",
    "  "
   ]
  },
  {
   "cell_type": "markdown",
   "metadata": {},
   "source": [
    "And create pandas DataFrames for percent GC and GC asymetry data"
   ]
  },
  {
   "cell_type": "code",
   "execution_count": null,
   "metadata": {
    "colab": {
     "base_uri": "https://localhost:8080/"
    },
    "id": "MK7E2FeWHiX6",
    "outputId": "8c43c904-14e9-4c61-9035-dc7bde00ed1b"
   },
   "outputs": [],
   "source": [
    "percent_data = {'refName': refName,\n",
    "                'start':start,\n",
    "                'end':end,\n",
    "                'name':percent_name,\n",
    "                'score':GCpercent}\n",
    "percent_df = pd.DataFrame(percent_data)\n",
    "print(percent_df)"
   ]
  },
  {
   "cell_type": "code",
   "execution_count": null,
   "metadata": {
    "colab": {
     "base_uri": "https://localhost:8080/"
    },
    "id": "8fAlg8bFPbE2",
    "outputId": "783f97f0-5f92-474c-bcd6-89599e021872"
   },
   "outputs": [],
   "source": [
    "asym_data = {'refName': refName,\n",
    "                'start':start,\n",
    "                'end':end,\n",
    "                'name':asym_name,\n",
    "                'score':GCasym}\n",
    "asym_df = pd.DataFrame(asym_data)\n",
    "print(asym_df)"
   ]
  },
  {
   "cell_type": "markdown",
   "metadata": {},
   "source": [
    "I'm printing out the config just to get a look at it to make sure it looks ok before I start adding data (which will make the config really big)"
   ]
  },
  {
   "cell_type": "code",
   "execution_count": null,
   "metadata": {
    "colab": {
     "base_uri": "https://localhost:8080/"
    },
    "id": "fK_gY1laJD8c",
    "outputId": "8b1eda36-7c56-428f-99d1-30dd11817868"
   },
   "outputs": [],
   "source": [
    "print(config.get_config())"
   ]
  },
  {
   "cell_type": "code",
   "execution_count": null,
   "metadata": {
    "id": "mLTB4BE5DWxe"
   },
   "outputs": [],
   "source": [
    "config.add_df_track(percent_df,'percent GC',track_id='df_percent_gc',overwrite=True)\n",
    "config.add_df_track(asym_df,'GC asymetry',track_id='df_gc_asym',overwrite=True)\n",
    "config.add_df_track(skew_df,'Cummulative GC skew',track_id='df_gc_skew',overwrite=True)"
   ]
  },
  {
   "cell_type": "markdown",
   "metadata": {},
   "source": [
    "Finally, we set a few things about how we want the initial view of JBrowse to look (location, tracks that are turned on) and then launch the genome browser. Note that as we zoom it, it might get a little \"jerky,\" as the config file is fairly large, since all of the data we created above is in the config. If we wanted to make this into something we showed other people, we'd want to create data files for each of these tracks."
   ]
  },
  {
   "cell_type": "code",
   "execution_count": null,
   "metadata": {
    "colab": {
     "base_uri": "https://localhost:8080/",
     "height": 321
    },
    "id": "sT6r8G3L-M3G",
    "outputId": "0b98d4b2-dde2-4691-a651-4f68a8146fc4"
   },
   "outputs": [],
   "source": [
    "config.set_location(\"NC_018416.1:1000..3500\")\n",
    "config.set_default_session(['Genes','df_gc_skew','df_percent_gc','df_gc_asym'], False)\n",
    "full_conf = config.get_config()\n",
    "launch(full_conf, port=3003,height=800)"
   ]
  },
  {
   "cell_type": "code",
   "execution_count": null,
   "metadata": {},
   "outputs": [],
   "source": []
  }
 ],
 "metadata": {
  "colab": {
   "collapsed_sections": [],
   "history_visible": true,
   "name": "Copy of gc skew jbrowse.ipynb",
   "provenance": []
  },
  "kernelspec": {
   "display_name": "Python 3 (ipykernel)",
   "language": "python",
   "name": "python3"
  },
  "language_info": {
   "codemirror_mode": {
    "name": "ipython",
    "version": 3
   },
   "file_extension": ".py",
   "mimetype": "text/x-python",
   "name": "python",
   "nbconvert_exporter": "python",
   "pygments_lexer": "ipython3",
   "version": "3.9.12"
  },
  "vscode": {
   "interpreter": {
    "hash": "ae01d287a68a3163f6e448387773ad514a20720982a5d001ad4c99e09c9ff21e"
   }
  }
 },
 "nbformat": 4,
 "nbformat_minor": 4
}
