{
 "cells": [
  {
   "cell_type": "markdown",
   "metadata": {
    "id": "8ISZT1RFPms9"
   },
   "source": [
    "Calculating rare k-mers"
   ]
  },
  {
   "cell_type": "code",
   "execution_count": null,
   "metadata": {
    "colab": {
     "base_uri": "https://localhost:8080/"
    },
    "executionInfo": {
     "elapsed": 22351,
     "status": "ok",
     "timestamp": 1665777129831,
     "user": {
      "displayName": "Scott Cain",
      "userId": "13378117319202916828"
     },
     "user_tz": 420
    },
    "id": "1x1une-C-M3D",
    "outputId": "5eaae040-33ad-49be-be00-b0f6a0358c17"
   },
   "outputs": [],
   "source": [
    "# For its use in colab notebook\n",
    "!pip install jbrowse-jupyter"
   ]
  },
  {
   "cell_type": "code",
   "execution_count": null,
   "metadata": {
    "colab": {
     "base_uri": "https://localhost:8080/"
    },
    "executionInfo": {
     "elapsed": 7194,
     "status": "ok",
     "timestamp": 1665777137021,
     "user": {
      "displayName": "Scott Cain",
      "userId": "13378117319202916828"
     },
     "user_tz": 420
    },
    "id": "DmL99HYAFU0n",
    "outputId": "7c1767a4-e46d-4a94-a03a-b59cb94268f2"
   },
   "outputs": [],
   "source": [
    "#in Google Colab, it seems that we can't use Flask 2.1.3, so we'll force it to use 1.1.4\n",
    "!pip install Flask==1.1.4"
   ]
  },
  {
   "cell_type": "code",
   "execution_count": null,
   "metadata": {
    "colab": {
     "base_uri": "https://localhost:8080/"
    },
    "executionInfo": {
     "elapsed": 6657,
     "status": "ok",
     "timestamp": 1665777143674,
     "user": {
      "displayName": "Scott Cain",
      "userId": "13378117319202916828"
     },
     "user_tz": 420
    },
    "id": "0EcdgRUg-M3F",
    "outputId": "9a4f85f5-97f9-4f64-9fca-5c3de883b758"
   },
   "outputs": [],
   "source": [
    "# For its use in colab notebook\n",
    "!pip install pandas\n",
    "import pandas as pd"
   ]
  },
  {
   "cell_type": "code",
   "execution_count": null,
   "metadata": {
    "executionInfo": {
     "elapsed": 6,
     "status": "ok",
     "timestamp": 1665777143674,
     "user": {
      "displayName": "Scott Cain",
      "userId": "13378117319202916828"
     },
     "user_tz": 420
    },
    "id": "MjV5p2bp-M3F"
   },
   "outputs": [],
   "source": [
    "#refseq_name = 'NZ_CP007470.1' #it would be nice to extract this from fasta or gff (which is what we do below when reading the fasta file line by line)"
   ]
  },
  {
   "cell_type": "markdown",
   "metadata": {
    "id": "dbKU_-GwPmtB"
   },
   "source": [
    "All of the data we are using came originally from this NCBI link: https://www.ncbi.nlm.nih.gov/genome/?term=NZ_CP007470.1. Things I did to make our lives easier:\n",
    "* Created a bgzipped and faidx indexed (SAMtools) copy of the fasta sequence\n",
    "* Created a bgzipped and tabix indexed copy of the GFF (which contains the gene annotations)\n",
    "* Created an unzipped copy of the fasta sequence (to make it easier for us to read)\n",
    "* Plopped all of this data in a AWS S3 bucket with CORS enabled for public access\n",
    "\n",
    "Here we are creating an empty JBrowse configuration option, telling it that it will be a linear genome view (LGV) as opposed to a circular genome view (CGV) and setting the assembly, telling where to find the indexed fasta file.\n",
    "\n",
    "Using the \"base_url\" variable here assumes that the following files are present:\n",
    "* `base_url + \".fa\"` (the uncompressed fasta file)\n",
    "* `base_url + \".fa.gz\"` (the bgzipped fasta file)\n",
    "* `base_url + \".fa.gz.fai\"` (the faidx index file)\n",
    "* `base_url + \".fa.gz.gzi\"` (the bgzip index file)\n",
    "* `base_url + \".gff.gz\"` (the bgzipped gff file)\n",
    "* `base_url + \".gff.gz.tbi\"` (the tabix index of the gff file)\n",
    "\n",
    "Using this approach, we can switch to any other bacterial genome by proving all of these files, and only changing the base_url value in this page."
   ]
  },
  {
   "cell_type": "code",
   "execution_count": null,
   "metadata": {
    "executionInfo": {
     "elapsed": 5,
     "status": "ok",
     "timestamp": 1665777143674,
     "user": {
      "displayName": "Scott Cain",
      "userId": "13378117319202916828"
     },
     "user_tz": 420
    },
    "id": "5LKL7jaTdN1F"
   },
   "outputs": [],
   "source": [
    "base_url = 'https://s3.amazonaws.com/wormbase-modencode/test/h_influenzae/h_influenzae_477'"
   ]
  },
  {
   "cell_type": "code",
   "execution_count": null,
   "metadata": {
    "executionInfo": {
     "elapsed": 5,
     "status": "ok",
     "timestamp": 1665777143675,
     "user": {
      "displayName": "Scott Cain",
      "userId": "13378117319202916828"
     },
     "user_tz": 420
    },
    "id": "qzeQZakd-2q3"
   },
   "outputs": [],
   "source": [
    "fasta_url = base_url + '.fa' #unzipped--this is what we are going to read in this script"
   ]
  },
  {
   "cell_type": "markdown",
   "metadata": {
    "id": "K0EklWnzPmtD"
   },
   "source": [
    "This is the \"magic\" for reading the contents from a URL."
   ]
  },
  {
   "cell_type": "code",
   "execution_count": null,
   "metadata": {
    "colab": {
     "base_uri": "https://localhost:8080/"
    },
    "executionInfo": {
     "elapsed": 603,
     "status": "ok",
     "timestamp": 1665777144273,
     "user": {
      "displayName": "Scott Cain",
      "userId": "13378117319202916828"
     },
     "user_tz": 420
    },
    "id": "pBWtqo_UDGun",
    "outputId": "dd9924c2-141c-438b-e79a-744d63d470fc"
   },
   "outputs": [],
   "source": [
    "import requests\n",
    "\n",
    "r = requests.get(fasta_url, stream=True)\n",
    "\n",
    "if r.encoding is None:\n",
    "  r.encoding = 'utf-8'\n",
    "\n",
    "refseq_name = ''\n",
    "seq = '' # this is a string that will contain the entire chromosome sequence\n",
    "firstline = True\n",
    "for line in r.iter_lines(decode_unicode=True):\n",
    "  if line:\n",
    "    if firstline:\n",
    "      space = line.index(\" \")\n",
    "      refseq_name = line[1:space]\n",
    "      print(refseq_name)\n",
    "      firstline = False\n",
    "      continue\n",
    "    if line.find(\">\") > -1: #stop after reading the first sequence if there is more than one\n",
    "      break\n",
    "    seq = seq + line.rstrip(\"\\n\") #strip the carriage returns off the end of each line in the fasta before concatenating\n",
    "\n",
    "print(len(seq))\n",
    "    \n",
    "    "
   ]
  },
  {
   "cell_type": "code",
   "execution_count": null,
   "metadata": {
    "executionInfo": {
     "elapsed": 353,
     "status": "ok",
     "timestamp": 1665777144623,
     "user": {
      "displayName": "Scott Cain",
      "userId": "13378117319202916828"
     },
     "user_tz": 420
    },
    "id": "KMvQkebB-M3F"
   },
   "outputs": [],
   "source": [
    "# don't actally need create here--that's only good for \"built in\" geneomes hg19, hg38\n",
    "from jbrowse_jupyter import create, launch"
   ]
  },
  {
   "cell_type": "code",
   "execution_count": null,
   "metadata": {
    "executionInfo": {
     "elapsed": 4,
     "status": "ok",
     "timestamp": 1665777144623,
     "user": {
      "displayName": "Scott Cain",
      "userId": "13378117319202916828"
     },
     "user_tz": 420
    },
    "id": "OK7QKLtF_-Bu"
   },
   "outputs": [],
   "source": [
    "import jbrowse_jupyter\n",
    "config = jbrowse_jupyter.JBrowseConfig(view=\"LGV\",)\n",
    "config.set_assembly(base_url + '.fa.gz', # bgzipped and then samtools faidx\n",
    "                    name=refseq_name)"
   ]
  },
  {
   "cell_type": "markdown",
   "metadata": {
    "id": "zjw2Z_LGPmtD"
   },
   "source": [
    "Here we are creating our first JBrowse 2 track from the GFF3 file I mentioned above. It's pretty straight forward, just giving it a url for the data and a name that will be displayed in JBrowse 2 (the \"name\") and a track_id, which is what we use to refer to it programatically below."
   ]
  },
  {
   "cell_type": "code",
   "execution_count": null,
   "metadata": {
    "executionInfo": {
     "elapsed": 2,
     "status": "ok",
     "timestamp": 1665777144623,
     "user": {
      "displayName": "Scott Cain",
      "userId": "13378117319202916828"
     },
     "user_tz": 420
    },
    "id": "ZhA_KA-YPmtD"
   },
   "outputs": [],
   "source": [
    "#add gene track\n",
    "geneGFFUrl = base_url + '.gff.gz'\n",
    "config.add_track(geneGFFUrl, name=\"Genes\",track_id=\"Genes\")"
   ]
  },
  {
   "cell_type": "markdown",
   "metadata": {
    "id": "T5uhq_YXsjSi"
   },
   "source": [
    "Now to start looking for k-mers. We loop through every position in the sequence that we got above (`seq`) and get the k-mer by taking the substring starting at the current position in the string (`seq[i:i+k]`). If we've seen that k-mer before, we just add to the count and if not, we start a count at 1."
   ]
  },
  {
   "cell_type": "code",
   "execution_count": null,
   "metadata": {
    "colab": {
     "base_uri": "https://localhost:8080/"
    },
    "executionInfo": {
     "elapsed": 3069,
     "status": "ok",
     "timestamp": 1665777147690,
     "user": {
      "displayName": "Scott Cain",
      "userId": "13378117319202916828"
     },
     "user_tz": 420
    },
    "id": "ooS3ilFXQjJd",
    "outputId": "80a3d2e9-ce86-4fd5-9c33-f0cb957745ce"
   },
   "outputs": [],
   "source": [
    "k = 6 #start with hexamers\n",
    "kmer_list = {}\n",
    "kmer_count = {}\n",
    "\n",
    "i = 1 #start counting bases at 1 (yeah, I know)\n",
    "for bp in seq: #loop over every base in the sequence\n",
    "  kmer_list[i] = seq[i:i+k] \n",
    "  #keep track of how many times we've seen a give n-mer\n",
    "  if (kmer_list[i] in kmer_count):\n",
    "    kmer_count[kmer_list[i]] += 1\n",
    "  else:\n",
    "    kmer_count[kmer_list[i]] = 1\n",
    "  i += 1\n",
    "  if(i>len(seq)-k):  # when this is true, we've seen the last n-mer\n",
    "    #print(i)\n",
    "    print(kmer_count)\n",
    "    break\n",
    "    \n",
    "#print(nmer_count['CGTCCG'])"
   ]
  },
  {
   "cell_type": "markdown",
   "metadata": {
    "id": "AcxaRvyEs3mP"
   },
   "source": [
    "Now make dictionary out of our results, giving it an index, and then create a DataFrame out of it."
   ]
  },
  {
   "cell_type": "code",
   "execution_count": null,
   "metadata": {
    "colab": {
     "base_uri": "https://localhost:8080/"
    },
    "executionInfo": {
     "elapsed": 10,
     "status": "ok",
     "timestamp": 1665777147690,
     "user": {
      "displayName": "Scott Cain",
      "userId": "13378117319202916828"
     },
     "user_tz": 420
    },
    "id": "YqCZ_rbpjGOc",
    "outputId": "57f70d20-838d-49e5-f1b2-a76e2b4e5de4"
   },
   "outputs": [],
   "source": [
    "index = 0\n",
    "kmer = {}\n",
    "count = {}\n",
    "for km in kmer_count:\n",
    "  kmer[index]=km\n",
    "  count[index]=kmer_count[km]\n",
    "  index += 1\n",
    "\n",
    "count_data = {'kmer':kmer,\n",
    "              'count':count}\n",
    "df = pd.DataFrame(count_data)\n",
    "print(df)"
   ]
  },
  {
   "cell_type": "markdown",
   "metadata": {
    "id": "68UswktRtNGs"
   },
   "source": [
    "Sort the DataFrame (which goes into a new DataFrame)"
   ]
  },
  {
   "cell_type": "code",
   "execution_count": null,
   "metadata": {
    "colab": {
     "base_uri": "https://localhost:8080/"
    },
    "executionInfo": {
     "elapsed": 2,
     "status": "ok",
     "timestamp": 1665777147690,
     "user": {
      "displayName": "Scott Cain",
      "userId": "13378117319202916828"
     },
     "user_tz": 420
    },
    "id": "94mER9-SoBiv",
    "outputId": "939faf6e-6253-4706-8a6c-a9326841ecbb"
   },
   "outputs": [],
   "source": [
    "#now sort them and find the least common\n",
    "sorted_kmers = df.sort_values(by=['count'])\n",
    "print(sorted_kmers)"
   ]
  },
  {
   "cell_type": "markdown",
   "metadata": {
    "id": "lyGSYyE6tUhl"
   },
   "source": [
    "Look at statistics just for being interesting."
   ]
  },
  {
   "cell_type": "code",
   "execution_count": null,
   "metadata": {
    "colab": {
     "base_uri": "https://localhost:8080/"
    },
    "executionInfo": {
     "elapsed": 225,
     "status": "ok",
     "timestamp": 1665777147913,
     "user": {
      "displayName": "Scott Cain",
      "userId": "13378117319202916828"
     },
     "user_tz": 420
    },
    "id": "p0Xbp_lxpJQK",
    "outputId": "5bde4719-4a16-4f94-9e89-e2d1235285c0"
   },
   "outputs": [],
   "source": [
    "print('average')\n",
    "print(df['count'].mean())\n",
    "print('stdev')\n",
    "print(df['count'].std())"
   ]
  },
  {
   "cell_type": "markdown",
   "metadata": {
    "id": "NJ2HNqFetbTm"
   },
   "source": [
    "Create a function that will create a DataFrame that JBrowse can use when given the rank of the \"rare-ness\" in the sorted DataFrame (ie, 0 is the most rare, 1 is the next most rare, etc)."
   ]
  },
  {
   "cell_type": "code",
   "execution_count": null,
   "metadata": {
    "executionInfo": {
     "elapsed": 4,
     "status": "ok",
     "timestamp": 1665777147914,
     "user": {
      "displayName": "Scott Cain",
      "userId": "13378117319202916828"
     },
     "user_tz": 420
    },
    "id": "nCrLbHXpqndK"
   },
   "outputs": [],
   "source": [
    "def nth_least_common(rank):\n",
    "#make features out of the least common nmer\n",
    "#find them in the original list, then use the index to create coordinates\n",
    "  least_common = sorted_kmers.iloc[rank].kmer\n",
    "\n",
    "  refName = []\n",
    "  start = []\n",
    "  end = []\n",
    "  name = []\n",
    "  for i in range(0,len(seq)):\n",
    "    if least_common == seq[i:i+k]:\n",
    "      print(i)\n",
    "      print(kmer_list[i])\n",
    "      refName.append(refseq_name)\n",
    "      start.append(i)\n",
    "      end.append(i+k)\n",
    "      name.append(least_common + ':' + str(i))\n",
    "  least_common_track_data = {'refName' : refName,\n",
    "                           'start' : start,\n",
    "                           'end' : end,\n",
    "                           'name' : name}\n",
    "  lc_df = pd.DataFrame(least_common_track_data)\n",
    "  return lc_df"
   ]
  },
  {
   "cell_type": "markdown",
   "metadata": {
    "id": "Emh-qMn6tyKW"
   },
   "source": [
    "Use that function to create a few track DataFrames."
   ]
  },
  {
   "cell_type": "code",
   "execution_count": null,
   "metadata": {
    "colab": {
     "base_uri": "https://localhost:8080/"
    },
    "executionInfo": {
     "elapsed": 789,
     "status": "ok",
     "timestamp": 1665777148700,
     "user": {
      "displayName": "Scott Cain",
      "userId": "13378117319202916828"
     },
     "user_tz": 420
    },
    "id": "i5T-rqffjvrX",
    "outputId": "ca367667-7ee8-4a10-82ef-4a89aa8a09ba"
   },
   "outputs": [],
   "source": [
    "zeroth_least_common_df = nth_least_common(0)\n",
    "print(zeroth_least_common_df)"
   ]
  },
  {
   "cell_type": "code",
   "execution_count": null,
   "metadata": {
    "colab": {
     "base_uri": "https://localhost:8080/"
    },
    "executionInfo": {
     "elapsed": 1003,
     "status": "ok",
     "timestamp": 1665777149700,
     "user": {
      "displayName": "Scott Cain",
      "userId": "13378117319202916828"
     },
     "user_tz": 420
    },
    "id": "JLzl2op0Adi0",
    "outputId": "9e597eaa-66d4-4c91-d487-ebb1ab155b43"
   },
   "outputs": [],
   "source": [
    "first_least_common_df = nth_least_common(1)\n",
    "print(first_least_common_df)"
   ]
  },
  {
   "cell_type": "markdown",
   "metadata": {
    "id": "FDN4V2pwt2Xw"
   },
   "source": [
    "Finally, add those DataFrame tracks, set the initial location to the first most rare k-mer and open JBrowse with the gene track from above and the k-mer tracks open."
   ]
  },
  {
   "cell_type": "code",
   "execution_count": null,
   "metadata": {
    "colab": {
     "base_uri": "https://localhost:8080/",
     "height": 621
    },
    "executionInfo": {
     "elapsed": 7,
     "status": "ok",
     "timestamp": 1665777149701,
     "user": {
      "displayName": "Scott Cain",
      "userId": "13378117319202916828"
     },
     "user_tz": 420
    },
    "id": "W_3vb0nbmQX1",
    "outputId": "d87cad96-3fca-4542-82e9-8d4ef7ffdc1c"
   },
   "outputs": [],
   "source": [
    "config.add_df_track(zeroth_least_common_df, 'least common k mer',track_id='least_common',overwrite=True)\n",
    "config.add_df_track(first_least_common_df,'next least common k mer',track_id='next_least_common',overwrite=True)\n",
    "location = refseq_name + \":\" + str(zeroth_least_common_df.loc[0,'start']-1000) + '..' + str(zeroth_least_common_df.loc[0,'start']+1000) #set the initial location centered on the first feature\n",
    "config.set_location(location)\n",
    "config.set_default_session(['Genes','df_gc_skew','least_common','next_least_common'], False)\n",
    "full_conf = config.get_config()\n",
    "launch(full_conf, port=3003, height=600)"
   ]
  }
 ],
 "metadata": {
  "colab": {
   "collapsed_sections": [],
   "provenance": []
  },
  "kernelspec": {
   "display_name": "Python 3.9.12 ('base')",
   "language": "python",
   "name": "python3"
  },
  "language_info": {
   "codemirror_mode": {
    "name": "ipython",
    "version": 3
   },
   "file_extension": ".py",
   "mimetype": "text/x-python",
   "name": "python",
   "nbconvert_exporter": "python",
   "pygments_lexer": "ipython3",
   "version": "3.9.12"
  },
  "vscode": {
   "interpreter": {
    "hash": "ae01d287a68a3163f6e448387773ad514a20720982a5d001ad4c99e09c9ff21e"
   }
  }
 },
 "nbformat": 4,
 "nbformat_minor": 0
}
