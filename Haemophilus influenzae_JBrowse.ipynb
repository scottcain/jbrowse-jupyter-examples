{
 "cells": [
  {
   "cell_type": "markdown",
   "metadata": {
    "id": "8ISZT1RFPms9"
   },
   "source": [
    "Blah blah calculating statistics good \n",
    "reference https://berthub.eu/articles/posts/a-science-experiment-part-2/ (also let him know I'm referencing this, that's just polite)\n",
    "also reference https://en.wikipedia.org/wiki/GC_skew"
   ]
  },
  {
   "cell_type": "code",
   "execution_count": null,
   "metadata": {
    "colab": {
     "base_uri": "https://localhost:8080/"
    },
    "executionInfo": {
     "elapsed": 11077,
     "status": "ok",
     "timestamp": 1660583086678,
     "user": {
      "displayName": "Scott Cain",
      "userId": "13378117319202916828"
     },
     "user_tz": 420
    },
    "id": "1x1une-C-M3D",
    "outputId": "9e70db36-b105-4008-eda4-6633b45cb990"
   },
   "outputs": [],
   "source": [
    "# For its use in colab notebook\n",
    "!pip install jbrowse-jupyter"
   ]
  },
  {
   "cell_type": "code",
   "execution_count": null,
   "metadata": {
    "colab": {
     "base_uri": "https://localhost:8080/"
    },
    "executionInfo": {
     "elapsed": 8244,
     "status": "ok",
     "timestamp": 1660583094916,
     "user": {
      "displayName": "Scott Cain",
      "userId": "13378117319202916828"
     },
     "user_tz": 420
    },
    "id": "DmL99HYAFU0n",
    "outputId": "70801465-fc51-41d9-cd27-de11fe2638b5"
   },
   "outputs": [],
   "source": [
    "#in Google Colab, it seems that we can't use Flask 2.1.3, so we'll force it to use 1.1.4\n",
    "#!pip install Flask==1.1.4"
   ]
  },
  {
   "cell_type": "code",
   "execution_count": null,
   "metadata": {
    "colab": {
     "base_uri": "https://localhost:8080/"
    },
    "executionInfo": {
     "elapsed": 4923,
     "status": "ok",
     "timestamp": 1660583099831,
     "user": {
      "displayName": "Scott Cain",
      "userId": "13378117319202916828"
     },
     "user_tz": 420
    },
    "id": "0EcdgRUg-M3F",
    "outputId": "dfc5af64-72da-47ab-c999-f14e9372868e"
   },
   "outputs": [],
   "source": [
    "# For its use in colab notebook\n",
    "!pip install pandas\n",
    "import pandas as pd"
   ]
  },
  {
   "cell_type": "code",
   "execution_count": null,
   "metadata": {
    "executionInfo": {
     "elapsed": 6,
     "status": "ok",
     "timestamp": 1660583099831,
     "user": {
      "displayName": "Scott Cain",
      "userId": "13378117319202916828"
     },
     "user_tz": 420
    },
    "id": "MjV5p2bp-M3F"
   },
   "outputs": [],
   "source": [
    "#refseq_name = 'NZ_CP007470.1' #it would be nice to extract this from fasta or gff (which is what we do below when reading the fasta file line by line)"
   ]
  },
  {
   "cell_type": "markdown",
   "metadata": {
    "id": "dbKU_-GwPmtB"
   },
   "source": [
    "All of the data we are using came originally from the NCBI link above. Things I did to make our lives easier:\n",
    "* Created a bgzipped and faidx indexed (SAMtools) copy of the fasta sequence\n",
    "* Created a bgzipped and tabix indexed copy of the GFF (which contains the gene annotations)\n",
    "* Created an unzipped copy of the fasta sequence (to make it easier for us to read)\n",
    "* Plopped all of this data in a AWS S3 bucket with CORS enabled for public access\n",
    "\n",
    "Here we are creating an empty JBrowse configuration option, telling it that it will be a linear genome view (LGV) as opposed to a circular genome view (CGV) and setting the assembly, telling where to find the indexed fasta file."
   ]
  },
  {
   "cell_type": "code",
   "execution_count": null,
   "metadata": {
    "executionInfo": {
     "elapsed": 4,
     "status": "ok",
     "timestamp": 1660583099831,
     "user": {
      "displayName": "Scott Cain",
      "userId": "13378117319202916828"
     },
     "user_tz": 420
    },
    "id": "5LKL7jaTdN1F"
   },
   "outputs": [],
   "source": [
    "base_url = 'https://s3.amazonaws.com/wormbase-modencode/test/h_influenzae/h_influenzae_477'"
   ]
  },
  {
   "cell_type": "code",
   "execution_count": null,
   "metadata": {
    "executionInfo": {
     "elapsed": 4,
     "status": "ok",
     "timestamp": 1660583099832,
     "user": {
      "displayName": "Scott Cain",
      "userId": "13378117319202916828"
     },
     "user_tz": 420
    },
    "id": "qzeQZakd-2q3"
   },
   "outputs": [],
   "source": [
    "fasta_url = base_url + '.fa' #unzipped--this is what we are going to read in this script"
   ]
  },
  {
   "cell_type": "markdown",
   "metadata": {
    "id": "K0EklWnzPmtD"
   },
   "source": [
    "This is the \"magic\" for reading the contents from a URL."
   ]
  },
  {
   "cell_type": "code",
   "execution_count": null,
   "metadata": {
    "colab": {
     "base_uri": "https://localhost:8080/"
    },
    "executionInfo": {
     "elapsed": 2201,
     "status": "ok",
     "timestamp": 1660583102029,
     "user": {
      "displayName": "Scott Cain",
      "userId": "13378117319202916828"
     },
     "user_tz": 420
    },
    "id": "pBWtqo_UDGun",
    "outputId": "4252e5c0-7890-461b-93e3-f6c212532cf3"
   },
   "outputs": [],
   "source": [
    "import requests\n",
    "\n",
    "r = requests.get(fasta_url, stream=True)\n",
    "\n",
    "if r.encoding is None:\n",
    "  r.encoding = 'utf-8'\n",
    "\n",
    "refseq_name = ''\n",
    "seq = ''\n",
    "firstline = True\n",
    "for line in r.iter_lines(decode_unicode=True):\n",
    "  if line:\n",
    "    if firstline:\n",
    "      space = line.index(\" \")\n",
    "      refseq_name = line[1:space]\n",
    "      print(refseq_name)\n",
    "      firstline = False\n",
    "      continue\n",
    "    if line.find(\">\") > -1: #stop after reading the first sequence\n",
    "      break\n",
    "    seq = seq + line.rstrip(\"\\n\")\n",
    "\n",
    "print(len(seq))\n",
    "    \n",
    "    "
   ]
  },
  {
   "cell_type": "code",
   "execution_count": null,
   "metadata": {
    "executionInfo": {
     "elapsed": 345,
     "status": "ok",
     "timestamp": 1660583102369,
     "user": {
      "displayName": "Scott Cain",
      "userId": "13378117319202916828"
     },
     "user_tz": 420
    },
    "id": "KMvQkebB-M3F"
   },
   "outputs": [],
   "source": [
    "# don't actally need create here--that's only good for \"build in\" geneomes hg19, hg38\n",
    "from jbrowse_jupyter import create, launch"
   ]
  },
  {
   "cell_type": "code",
   "execution_count": null,
   "metadata": {
    "executionInfo": {
     "elapsed": 7,
     "status": "ok",
     "timestamp": 1660583102370,
     "user": {
      "displayName": "Scott Cain",
      "userId": "13378117319202916828"
     },
     "user_tz": 420
    },
    "id": "OK7QKLtF_-Bu"
   },
   "outputs": [],
   "source": [
    "import jbrowse_jupyter\n",
    "config = jbrowse_jupyter.JBrowseConfig(view=\"LGV\",)\n",
    "config.set_assembly(base_url + '.fa.gz', # bgzipped and then samtools faidx\n",
    "                    name=refseq_name)"
   ]
  },
  {
   "cell_type": "markdown",
   "metadata": {
    "id": "zjw2Z_LGPmtD"
   },
   "source": [
    "Here we are creating our first JBrowse 2 track from the GFF3 file I mentioned above. It's pretty straight forward, just giving it a url for the data and a name that will be displayed in JBrowse 2 (the \"name\") and a track_id, which is what we use to refer to it programatically below."
   ]
  },
  {
   "cell_type": "code",
   "execution_count": null,
   "metadata": {
    "executionInfo": {
     "elapsed": 6,
     "status": "ok",
     "timestamp": 1660583102370,
     "user": {
      "displayName": "Scott Cain",
      "userId": "13378117319202916828"
     },
     "user_tz": 420
    },
    "id": "ZhA_KA-YPmtD"
   },
   "outputs": [],
   "source": [
    "#add gene track\n",
    "geneGFFUrl = base_url + '.gff.gz'\n",
    "config.add_track(geneGFFUrl, name=\"Genes\",track_id=\"Genes\")"
   ]
  },
  {
   "cell_type": "markdown",
   "metadata": {
    "id": "RDvncB43PmtD"
   },
   "source": [
    "Now we start some computation. The window and step are for calculating sliding averages: the window is how many bases we'll use to calculate an average and the step is how many bases we'll move the \"center\" of the window with each time through the loop. The sample_frequency is for items that we are calculating for every base, but only saving some of the time to keep the data structure smaller."
   ]
  },
  {
   "cell_type": "code",
   "execution_count": null,
   "metadata": {
    "executionInfo": {
     "elapsed": 6,
     "status": "ok",
     "timestamp": 1660583102370,
     "user": {
      "displayName": "Scott Cain",
      "userId": "13378117319202916828"
     },
     "user_tz": 420
    },
    "id": "AydKqgnLYtJF"
   },
   "outputs": [],
   "source": [
    "window = 40 #window has to be an even number\n",
    "step   = 20\n",
    "sample_freq = 100"
   ]
  },
  {
   "cell_type": "markdown",
   "metadata": {
    "id": "0PAChaO-PmtE"
   },
   "source": [
    "Frist read the sequence data into a variable called `seq`"
   ]
  },
  {
   "cell_type": "code",
   "execution_count": null,
   "metadata": {
    "executionInfo": {
     "elapsed": 5,
     "status": "ok",
     "timestamp": 1660583102370,
     "user": {
      "displayName": "Scott Cain",
      "userId": "13378117319202916828"
     },
     "user_tz": 420
    },
    "id": "88DiKGW0PmtE"
   },
   "outputs": [],
   "source": [
    "#firstline = True\n",
    "#linecount=0\n",
    "\n",
    "#seq = '' #first try just putting all of the seq into a variable (rather than working on streaming sequence)\n",
    "\n",
    "#tw = io.TextIOWrapper(r)\n",
    "#while True:\n",
    "#for line in io.TextIOWrapper(r):\n",
    "#  rline = tw.readline()\n",
    "#  if not rline:\n",
    "#    break\n",
    "#  if firstline:\n",
    "#    firstline = False\n",
    "#    continue # skip the header line\n",
    "#  if rline.find(\">\") > -1: #assuming there are other sequences in the fasta, stop after the first one\n",
    "                           # note that this is a bit of a hack here: the interaction between streaming the data from AWS and TextIOWrapper doesn't\n",
    "                           # work great (that is, it closes before we read to the end), so I hacked the fasta file that we are reading to have two \n",
    "                           # copies of the bacterial genome it it\n",
    "#    break\n",
    "#  seq = seq + rline.rstrip(\"\\n\")"
   ]
  },
  {
   "cell_type": "markdown",
   "metadata": {
    "id": "9cxg-OEWPmtE"
   },
   "source": [
    "Now we are going to do the calculations that happen on every base (rather than sliding averages, that we'll do below). Two things are getting calculated here:\n",
    "* The cummulative GC skew (basically, every time you see a G, add 1, every time you see a C, subtract 1)\n",
    "* The total of each type of base\n",
    "Notice that typically the number of As is typically roughly equal to the number of Ts and the same is true for Gs and Cs. I don't know if an accepted hypothosis for why that is has ever been presented.\n",
    "\n",
    "A brief comment about the data structure we are building: it is essentially several \"parallel\" arrays (ie, the first element of each array constitutes one \"point\" and so on). Since we are working on one type of data for each data structure and on a single chromosome, the reference name and \"data name\" fields will be the same for each point, which feels a little silly, but gives us the flexibility to create data structures where that isn't the case."
   ]
  },
  {
   "cell_type": "code",
   "execution_count": null,
   "metadata": {
    "colab": {
     "base_uri": "https://localhost:8080/"
    },
    "executionInfo": {
     "elapsed": 1805,
     "status": "ok",
     "timestamp": 1660583104170,
     "user": {
      "displayName": "Scott Cain",
      "userId": "13378117319202916828"
     },
     "user_tz": 420
    },
    "id": "ooS3ilFXQjJd",
    "outputId": "33cea532-7081-4a5a-aaf3-473d76efb090"
   },
   "outputs": [],
   "source": [
    "all_sum = {}\n",
    "cummulative_skew = {}\n",
    "sampled_skew = {}\n",
    "cummulative_name = {}\n",
    "start = {}\n",
    "end   = {}\n",
    "refName = {}\n",
    "skew_name = {}\n",
    "firstBase = True\n",
    "i = 1 #start counting bases at 1 (yeah, I know)\n",
    "for bp in seq: #loop over every base in the sequence\n",
    "  if firstBase:\n",
    "    if bp == \"G\":\n",
    "      cummulative_skew[i] = 1\n",
    "    elif bp == \"C\":\n",
    "      cummulative_skew[i] = -1\n",
    "    else:\n",
    "      cummulative_skew[i] = 0\n",
    "    firstBase = False\n",
    "  # calculating cummulative skew at every base\n",
    "  else:\n",
    "    if bp == \"G\":\n",
    "      cummulative_skew[i] = cummulative_skew[i-1] + 1\n",
    "    elif bp == \"C\":\n",
    "      cummulative_skew[i] = cummulative_skew[i-1] - 1\n",
    "    else:\n",
    "      cummulative_skew[i] = cummulative_skew[i-1]\n",
    "  if i % sample_freq == 0:\n",
    "    index = int(i/sample_freq)\n",
    "    sampled_skew[index] = cummulative_skew[i]\n",
    "    cummulative_name[index] = 'Cummulative GC skew'\n",
    "    start[index] = i\n",
    "    end[index] = i\n",
    "    refName[index] = refseq_name\n",
    "    skew_name[index] = 'Cummulative GC skew'\n",
    "  #not really a frequency, really sum\n",
    "  if bp in all_sum:\n",
    "    all_sum[bp] += 1\n",
    "  else:\n",
    "    all_sum[bp] = 1\n",
    "  i += 1\n",
    "print(all_sum)"
   ]
  },
  {
   "cell_type": "markdown",
   "metadata": {
    "id": "2L9CVxWFPmtF"
   },
   "source": [
    "Create a pandas DataFrame for the skew data (this is the structure that JBrowse expects)."
   ]
  },
  {
   "cell_type": "code",
   "execution_count": null,
   "metadata": {
    "colab": {
     "base_uri": "https://localhost:8080/"
    },
    "executionInfo": {
     "elapsed": 5,
     "status": "ok",
     "timestamp": 1660583104170,
     "user": {
      "displayName": "Scott Cain",
      "userId": "13378117319202916828"
     },
     "user_tz": 420
    },
    "id": "aMwLDKEcPmtF",
    "outputId": "a2bc295b-b7b8-4703-a3ce-95b255ee716e"
   },
   "outputs": [],
   "source": [
    "skew_data = {'refName': refName,\n",
    "                'start':start,\n",
    "                'end':end,\n",
    "                'name':skew_name,\n",
    "                'score':sampled_skew}\n",
    "skew_df = pd.DataFrame(skew_data)\n",
    "print(skew_df)"
   ]
  },
  {
   "cell_type": "markdown",
   "metadata": {
    "id": "T-6rXx_5PmtG"
   },
   "source": [
    "Now to calculate the sliding average statistics, percent GC and local GC asymetry"
   ]
  },
  {
   "cell_type": "code",
   "execution_count": null,
   "metadata": {
    "executionInfo": {
     "elapsed": 500,
     "status": "ok",
     "timestamp": 1660583104668,
     "user": {
      "displayName": "Scott Cain",
      "userId": "13378117319202916828"
     },
     "user_tz": 420
    },
    "id": "P_WurowxFVyi"
   },
   "outputs": [],
   "source": [
    "seqlen = len(seq)\n",
    "GCpercent = {}\n",
    "GCasym = {}\n",
    "start = {}\n",
    "end = {}\n",
    "refName = {}\n",
    "percent_name={}\n",
    "asym_name={}\n",
    "rowcount=0\n",
    "for bp in range(int(window/2), int(seqlen-window/2), step): #note the use of range to create a number sequence to skip through the sequence string\n",
    "  seqfrag = seq[bp-int(window/2):bp+int(window/2)]\n",
    "  Acount = seqfrag.count('A')\n",
    "  Ccount = seqfrag.count('C')\n",
    "  Gcount = seqfrag.count('G')\n",
    "  Tcount = seqfrag.count('T')\n",
    "  refName[rowcount] = refseq_name\n",
    "  start[rowcount] = bp\n",
    "  end[rowcount] = bp\n",
    "  percent_name[rowcount] = 'GC percent'\n",
    "  asym_name[rowcount] = 'GC asymetry'\n",
    "#casting fractions into int percents; score shouldn't have to be an int!\n",
    "  GCpercent[rowcount] = int((100*Gcount+Ccount)/window)\n",
    "  GCasym[rowcount] = 0\n",
    "  if Gcount+Ccount > 0:\n",
    "    GCasym[rowcount]  = int(100*(Gcount-Ccount)/(Gcount+Ccount))\n",
    "  rowcount = rowcount+1\n",
    "    \n",
    "\n",
    "\n",
    "  "
   ]
  },
  {
   "cell_type": "markdown",
   "metadata": {
    "id": "NAVUnkPDPmtG"
   },
   "source": [
    "And create pandas DataFrames for percent GC and GC asymetry data"
   ]
  },
  {
   "cell_type": "code",
   "execution_count": null,
   "metadata": {
    "colab": {
     "base_uri": "https://localhost:8080/"
    },
    "executionInfo": {
     "elapsed": 402,
     "status": "ok",
     "timestamp": 1660583105069,
     "user": {
      "displayName": "Scott Cain",
      "userId": "13378117319202916828"
     },
     "user_tz": 420
    },
    "id": "MK7E2FeWHiX6",
    "outputId": "3ff0f054-09c6-43e5-d9d3-d6d0715ff780"
   },
   "outputs": [],
   "source": [
    "percent_data = {'refName': refName,\n",
    "                'start':start,\n",
    "                'end':end,\n",
    "                'name':percent_name,\n",
    "                'score':GCpercent}\n",
    "percent_df = pd.DataFrame(percent_data)\n",
    "print(percent_df)"
   ]
  },
  {
   "cell_type": "code",
   "execution_count": null,
   "metadata": {
    "colab": {
     "base_uri": "https://localhost:8080/"
    },
    "executionInfo": {
     "elapsed": 419,
     "status": "ok",
     "timestamp": 1660583105486,
     "user": {
      "displayName": "Scott Cain",
      "userId": "13378117319202916828"
     },
     "user_tz": 420
    },
    "id": "8fAlg8bFPbE2",
    "outputId": "1a96f63d-a541-4d9e-929c-6d2fa2bca995"
   },
   "outputs": [],
   "source": [
    "asym_data = {'refName': refName,\n",
    "                'start':start,\n",
    "                'end':end,\n",
    "                'name':asym_name,\n",
    "                'score':GCasym}\n",
    "asym_df = pd.DataFrame(asym_data)\n",
    "print(asym_df)"
   ]
  },
  {
   "cell_type": "markdown",
   "metadata": {
    "id": "syJj2wlmPmtH"
   },
   "source": [
    "I'm printing out the config just to get a look at it to make sure it looks ok before I start adding data (which will make the config really big)"
   ]
  },
  {
   "cell_type": "code",
   "execution_count": null,
   "metadata": {
    "colab": {
     "base_uri": "https://localhost:8080/"
    },
    "executionInfo": {
     "elapsed": 4,
     "status": "ok",
     "timestamp": 1660583105486,
     "user": {
      "displayName": "Scott Cain",
      "userId": "13378117319202916828"
     },
     "user_tz": 420
    },
    "id": "fK_gY1laJD8c",
    "outputId": "e9446300-437f-48c0-b3b1-c5e5a83f93ac"
   },
   "outputs": [],
   "source": [
    "print(config.get_config())"
   ]
  },
  {
   "cell_type": "code",
   "execution_count": null,
   "metadata": {
    "executionInfo": {
     "elapsed": 3263,
     "status": "ok",
     "timestamp": 1660583108747,
     "user": {
      "displayName": "Scott Cain",
      "userId": "13378117319202916828"
     },
     "user_tz": 420
    },
    "id": "mLTB4BE5DWxe"
   },
   "outputs": [],
   "source": [
    "config.add_df_track(percent_df,'percent GC',track_id='df_percent_gc',overwrite=True)\n",
    "config.add_df_track(asym_df,'GC asymetry',track_id='df_gc_asym',overwrite=True)\n",
    "config.add_df_track(skew_df,'Cummulative GC skew',track_id='df_gc_skew',overwrite=True)"
   ]
  },
  {
   "cell_type": "markdown",
   "metadata": {
    "id": "I_zTaUCdPmtH"
   },
   "source": [
    "Finally, we set a few things about how we want the initial view of JBrowse to look (location, tracks that are turned on) and then launch the genome browser. Note that as we zoom, it might get a little \"jerky,\" as the config file is fairly large, since all of the data we created above is in the config. If we wanted to make this into something we showed other people, we'd want to create data files for each of these tracks."
   ]
  },
  {
   "cell_type": "code",
   "execution_count": null,
   "metadata": {
    "colab": {
     "base_uri": "https://localhost:8080/"
    },
    "executionInfo": {
     "elapsed": 11,
     "status": "ok",
     "timestamp": 1660583108750,
     "user": {
      "displayName": "Scott Cain",
      "userId": "13378117319202916828"
     },
     "user_tz": 420
    },
    "id": "sT6r8G3L-M3G",
    "outputId": "2c6f95be-2e76-4508-c9c1-176d9244a563"
   },
   "outputs": [],
   "source": [
    "location = refseq_name + \":1000..3500\"\n",
    "print(location)\n"
   ]
  },
  {
   "cell_type": "code",
   "execution_count": null,
   "metadata": {
    "colab": {
     "base_uri": "https://localhost:8080/",
     "height": 621
    },
    "executionInfo": {
     "elapsed": 8,
     "status": "ok",
     "timestamp": 1660583108750,
     "user": {
      "displayName": "Scott Cain",
      "userId": "13378117319202916828"
     },
     "user_tz": 420
    },
    "id": "4OZTkZWeFH5B",
    "outputId": "29888afc-a0a1-4462-858f-6ba6eb313d3b"
   },
   "outputs": [],
   "source": [
    "config.set_location(location)\n",
    "#config.set_default_session(['Genes','df_gc_skew','df_percent_gc','df_gc_asym'], False)\n",
    "config.set_default_session(['Genes','df_gc_skew'], False)\n",
    "full_conf = config.get_config()\n",
    "launch(full_conf, port=3003, height=600) #height sets the height of the iframe containing JBrowse, but \n",
    "                                         # JBrowse sets the height of itself. To use all of the height allocated,\n",
    "                                         # you have to manually drag the bottom edge of jbrowse down."
   ]
  }
 ],
 "metadata": {
  "colab": {
   "collapsed_sections": [],
   "name": "Haemophilus influenzae_JBrowse.ipynb",
   "provenance": []
  },
  "kernelspec": {
   "display_name": "Python 3 (ipykernel)",
   "language": "python",
   "name": "python3"
  },
  "language_info": {
   "codemirror_mode": {
    "name": "ipython",
    "version": 3
   },
   "file_extension": ".py",
   "mimetype": "text/x-python",
   "name": "python",
   "nbconvert_exporter": "python",
   "pygments_lexer": "ipython3",
   "version": "3.9.12"
  },
  "vscode": {
   "interpreter": {
    "hash": "ae01d287a68a3163f6e448387773ad514a20720982a5d001ad4c99e09c9ff21e"
   }
  }
 },
 "nbformat": 4,
 "nbformat_minor": 4
}
